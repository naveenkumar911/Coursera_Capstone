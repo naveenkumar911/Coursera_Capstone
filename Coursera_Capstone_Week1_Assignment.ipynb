Please review my notebook. Here is the link to my notebook: 

https://dataplatform.cloud.ibm.com/analytics/notebooks/v2/c8876cee-db27-427e-ac9e-f46f92f1a5f3?projectid=a2bf7e2b-d805-442b-a729-6eeb5d47cff6&context=data







{
    "nbformat_minor": 1, 
    "cells": [
        {
            "source": "This notebook will mainly used for Coursera Capstone Project.   \n\nThis is the week - 1 assignment for Coursera Capstone", 
            "cell_type": "markdown", 
            "metadata": {
                "collapsed": true
            }
        }, 
        {
            "source": "#Importing the pandas library\n\nimport pandas as pd", 
            "cell_type": "code", 
            "metadata": {}, 
            "outputs": [], 
            "execution_count": 1
        }, 
        {
            "source": "#Importing the numpy library\nimport numpy as np", 
            "cell_type": "code", 
            "metadata": {}, 
            "outputs": [], 
            "execution_count": 2
        }, 
        {
            "source": "#Printing the concerned statement\n\nprint('Hello Capstone Project Course!')", 
            "cell_type": "code", 
            "metadata": {}, 
            "outputs": [
                {
                    "output_type": "stream", 
                    "name": "stdout", 
                    "text": "Hello Capstone Project Course!\n"
                }
            ], 
            "execution_count": 4
        }, 
        {
            "source": "", 
            "cell_type": "code", 
            "metadata": {}, 
            "outputs": [], 
            "execution_count": null
        }
    ], 
    "metadata": {
        "kernelspec": {
            "display_name": "Python 3.6", 
            "name": "python3", 
            "language": "python"
        }, 
        "language_info": {
            "mimetype": "text/x-python", 
            "nbconvert_exporter": "python", 
            "version": "3.6.8", 
            "name": "python", 
            "pygments_lexer": "ipython3", 
            "file_extension": ".py", 
            "codemirror_mode": {
                "version": 3, 
                "name": "ipython"
            }
        }
    }, 
    "nbformat": 4
}
